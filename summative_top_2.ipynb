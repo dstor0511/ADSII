{
 "cells": [
  {
   "cell_type": "markdown",
   "metadata": {},
   "source": [
    "# Summative quiz for topic 2.\n",
    "\n",
    "Question 1. Given the following function A(a, b), what does A(25, 2) return?\n"
   ]
  },
  {
   "cell_type": "code",
   "execution_count": 15,
   "metadata": {},
   "outputs": [
    {
     "data": {
      "text/plain": [
       "1"
      ]
     },
     "execution_count": 15,
     "metadata": {},
     "output_type": "execute_result"
    }
   ],
   "source": [
    "def A(a, b):\n",
    "    if a < b:\n",
    "        return a\n",
    "    else:\n",
    "        return A(a - b, b)\n",
    "\n",
    "\n",
    "A(25, 2)"
   ]
  },
  {
   "cell_type": "markdown",
   "metadata": {},
   "source": [
    "Question 2. Given the following function B(a, b), what does B(8, 3) return?\n"
   ]
  },
  {
   "cell_type": "code",
   "execution_count": 14,
   "metadata": {},
   "outputs": [
    {
     "data": {
      "text/plain": [
       "512"
      ]
     },
     "execution_count": 14,
     "metadata": {},
     "output_type": "execute_result"
    }
   ],
   "source": [
    "def B(a, b):\n",
    "    if b == 0:\n",
    "        return 1\n",
    "    else:\n",
    "        return B(a, b - 1) * a\n",
    "\n",
    "\n",
    "B(8, 3)"
   ]
  },
  {
   "cell_type": "markdown",
   "metadata": {},
   "source": [
    "Question 3. What code fragment should replace X for function A to return the sum of a and b?\n"
   ]
  },
  {
   "cell_type": "code",
   "execution_count": 17,
   "metadata": {},
   "outputs": [
    {
     "data": {
      "text/plain": [
       "2"
      ]
     },
     "execution_count": 17,
     "metadata": {},
     "output_type": "execute_result"
    }
   ],
   "source": [
    "def add(a, b):\n",
    "    if b == 0:\n",
    "        return a\n",
    "    else:\n",
    "        return add(a + 1, b - 1)\n",
    "\n",
    "\n",
    "add(1, 1)"
   ]
  },
  {
   "cell_type": "markdown",
   "metadata": {},
   "source": [
    "Question 4. What code fragment should replace Z for function A to return the quotient of a and b (the integer part of $\\frac a b$)"
   ]
  },
  {
   "cell_type": "code",
   "execution_count": 22,
   "metadata": {},
   "outputs": [
    {
     "data": {
      "text/plain": [
       "12"
      ]
     },
     "execution_count": 22,
     "metadata": {},
     "output_type": "execute_result"
    }
   ],
   "source": [
    "def mod(a, b):\n",
    "    if a < b:\n",
    "        return 0\n",
    "    else:\n",
    "        return mod(a - b, b) + 1\n",
    "\n",
    "\n",
    "mod(25, 2)"
   ]
  },
  {
   "cell_type": "markdown",
   "metadata": {},
   "source": [
    "Question 5. What is the return value of the following recursive algorithm when the input arguments are `A=[0,0,1,0,0,1,0,1]` and `pos=7`?"
   ]
  },
  {
   "cell_type": "code",
   "execution_count": null,
   "metadata": {},
   "outputs": [],
   "source": [
    "def F(a, pos):\n",
    "    "
   ]
  }
 ],
 "metadata": {
  "kernelspec": {
   "display_name": "Python 3",
   "language": "python",
   "name": "python3"
  },
  "language_info": {
   "codemirror_mode": {
    "name": "ipython",
    "version": 3
   },
   "file_extension": ".py",
   "mimetype": "text/x-python",
   "name": "python",
   "nbconvert_exporter": "python",
   "pygments_lexer": "ipython3",
   "version": "3.12.3"
  }
 },
 "nbformat": 4,
 "nbformat_minor": 2
}
